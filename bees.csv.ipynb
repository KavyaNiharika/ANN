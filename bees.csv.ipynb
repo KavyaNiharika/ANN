{
 "cells": [
  {
   "cell_type": "code",
   "execution_count": 1,
   "metadata": {},
   "outputs": [],
   "source": [
    "import numpy as np\n",
    "import pandas as pd\n",
    "import matplotlib.pyplot as plt\n",
    "import seaborn as sn"
   ]
  },
  {
   "cell_type": "code",
   "execution_count": 2,
   "metadata": {},
   "outputs": [
    {
     "data": {
      "text/html": [
       "<div>\n",
       "<style scoped>\n",
       "    .dataframe tbody tr th:only-of-type {\n",
       "        vertical-align: middle;\n",
       "    }\n",
       "\n",
       "    .dataframe tbody tr th {\n",
       "        vertical-align: top;\n",
       "    }\n",
       "\n",
       "    .dataframe thead th {\n",
       "        text-align: right;\n",
       "    }\n",
       "</style>\n",
       "<table border=\"1\" class=\"dataframe\">\n",
       "  <thead>\n",
       "    <tr style=\"text-align: right;\">\n",
       "      <th></th>\n",
       "      <th>file</th>\n",
       "      <th>date</th>\n",
       "      <th>time</th>\n",
       "      <th>location</th>\n",
       "      <th>zip code</th>\n",
       "      <th>subspecies</th>\n",
       "      <th>health</th>\n",
       "      <th>pollen_carrying</th>\n",
       "      <th>caste</th>\n",
       "    </tr>\n",
       "  </thead>\n",
       "  <tbody>\n",
       "    <tr>\n",
       "      <th>0</th>\n",
       "      <td>041_066.png</td>\n",
       "      <td>8/28/18</td>\n",
       "      <td>16:07</td>\n",
       "      <td>Alvin, TX, USA</td>\n",
       "      <td>77511</td>\n",
       "      <td>-1</td>\n",
       "      <td>hive being robbed</td>\n",
       "      <td>False</td>\n",
       "      <td>worker</td>\n",
       "    </tr>\n",
       "    <tr>\n",
       "      <th>1</th>\n",
       "      <td>041_072.png</td>\n",
       "      <td>8/28/18</td>\n",
       "      <td>16:07</td>\n",
       "      <td>Alvin, TX, USA</td>\n",
       "      <td>77511</td>\n",
       "      <td>-1</td>\n",
       "      <td>hive being robbed</td>\n",
       "      <td>False</td>\n",
       "      <td>worker</td>\n",
       "    </tr>\n",
       "    <tr>\n",
       "      <th>2</th>\n",
       "      <td>041_073.png</td>\n",
       "      <td>8/28/18</td>\n",
       "      <td>16:07</td>\n",
       "      <td>Alvin, TX, USA</td>\n",
       "      <td>77511</td>\n",
       "      <td>-1</td>\n",
       "      <td>hive being robbed</td>\n",
       "      <td>False</td>\n",
       "      <td>worker</td>\n",
       "    </tr>\n",
       "    <tr>\n",
       "      <th>3</th>\n",
       "      <td>041_067.png</td>\n",
       "      <td>8/28/18</td>\n",
       "      <td>16:07</td>\n",
       "      <td>Alvin, TX, USA</td>\n",
       "      <td>77511</td>\n",
       "      <td>-1</td>\n",
       "      <td>hive being robbed</td>\n",
       "      <td>False</td>\n",
       "      <td>worker</td>\n",
       "    </tr>\n",
       "    <tr>\n",
       "      <th>4</th>\n",
       "      <td>041_059.png</td>\n",
       "      <td>8/28/18</td>\n",
       "      <td>16:07</td>\n",
       "      <td>Alvin, TX, USA</td>\n",
       "      <td>77511</td>\n",
       "      <td>-1</td>\n",
       "      <td>hive being robbed</td>\n",
       "      <td>False</td>\n",
       "      <td>worker</td>\n",
       "    </tr>\n",
       "  </tbody>\n",
       "</table>\n",
       "</div>"
      ],
      "text/plain": [
       "          file     date   time        location  zip code subspecies  \\\n",
       "0  041_066.png  8/28/18  16:07  Alvin, TX, USA     77511         -1   \n",
       "1  041_072.png  8/28/18  16:07  Alvin, TX, USA     77511         -1   \n",
       "2  041_073.png  8/28/18  16:07  Alvin, TX, USA     77511         -1   \n",
       "3  041_067.png  8/28/18  16:07  Alvin, TX, USA     77511         -1   \n",
       "4  041_059.png  8/28/18  16:07  Alvin, TX, USA     77511         -1   \n",
       "\n",
       "              health  pollen_carrying   caste  \n",
       "0  hive being robbed            False  worker  \n",
       "1  hive being robbed            False  worker  \n",
       "2  hive being robbed            False  worker  \n",
       "3  hive being robbed            False  worker  \n",
       "4  hive being robbed            False  worker  "
      ]
     },
     "execution_count": 2,
     "metadata": {},
     "output_type": "execute_result"
    }
   ],
   "source": [
    "data=pd.read_csv('c:/Users/Admin/Documents/Data Set/DL Dataset/ANN/bee_data.csv')\n",
    "data.head()"
   ]
  },
  {
   "cell_type": "code",
   "execution_count": 3,
   "metadata": {},
   "outputs": [
    {
     "name": "stdout",
     "output_type": "stream",
     "text": [
      "<class 'pandas.core.frame.DataFrame'>\n",
      "RangeIndex: 5172 entries, 0 to 5171\n",
      "Data columns (total 9 columns):\n",
      " #   Column           Non-Null Count  Dtype \n",
      "---  ------           --------------  ----- \n",
      " 0   file             5172 non-null   object\n",
      " 1   date             5172 non-null   object\n",
      " 2   time             5172 non-null   object\n",
      " 3   location         5172 non-null   object\n",
      " 4   zip code         5172 non-null   int64 \n",
      " 5   subspecies       5172 non-null   object\n",
      " 6   health           5172 non-null   object\n",
      " 7   pollen_carrying  5172 non-null   bool  \n",
      " 8   caste            5172 non-null   object\n",
      "dtypes: bool(1), int64(1), object(7)\n",
      "memory usage: 328.4+ KB\n"
     ]
    }
   ],
   "source": [
    "data.info()"
   ]
  },
  {
   "cell_type": "code",
   "execution_count": 4,
   "metadata": {},
   "outputs": [
    {
     "data": {
      "text/plain": [
       "file               0\n",
       "date               0\n",
       "time               0\n",
       "location           0\n",
       "zip code           0\n",
       "subspecies         0\n",
       "health             0\n",
       "pollen_carrying    0\n",
       "caste              0\n",
       "dtype: int64"
      ]
     },
     "execution_count": 4,
     "metadata": {},
     "output_type": "execute_result"
    }
   ],
   "source": [
    "data.isnull().sum()"
   ]
  },
  {
   "cell_type": "code",
   "execution_count": 5,
   "metadata": {},
   "outputs": [
    {
     "data": {
      "text/plain": [
       "Index(['file', 'date', 'time', 'location', 'zip code', 'subspecies', 'health',\n",
       "       'pollen_carrying', 'caste'],\n",
       "      dtype='object')"
      ]
     },
     "execution_count": 5,
     "metadata": {},
     "output_type": "execute_result"
    }
   ],
   "source": [
    "data.columns"
   ]
  },
  {
   "cell_type": "code",
   "execution_count": 6,
   "metadata": {},
   "outputs": [],
   "source": [
    "data['date']=pd.to_datetime(data['date'])\n",
    "data['day']=data['date'].dt.day\n",
    "data['month']=data['date'].dt.month\n",
    "data['year']=data['date'].dt.year"
   ]
  },
  {
   "cell_type": "code",
   "execution_count": 7,
   "metadata": {},
   "outputs": [],
   "source": [
    "data=data.drop(['date','file','zip code'],axis=1)"
   ]
  },
  {
   "cell_type": "code",
   "execution_count": 8,
   "metadata": {},
   "outputs": [
    {
     "data": {
      "text/plain": [
       "False    5154\n",
       "True       18\n",
       "Name: pollen_carrying, dtype: int64"
      ]
     },
     "execution_count": 8,
     "metadata": {},
     "output_type": "execute_result"
    }
   ],
   "source": [
    "data['pollen_carrying'].value_counts()"
   ]
  },
  {
   "cell_type": "code",
   "execution_count": 9,
   "metadata": {},
   "outputs": [
    {
     "data": {
      "text/plain": [
       "Saratoga, CA, USA       2000\n",
       "Des Moines, IA, USA      973\n",
       "Alvin, TX, USA           737\n",
       "Athens, GA, USA          579\n",
       "Athens, Georgia, USA     472\n",
       "New Orleans, LA, USA     170\n",
       "San Jose, CA, USA        149\n",
       "Keene, NH, USA            92\n",
       "Name: location, dtype: int64"
      ]
     },
     "execution_count": 9,
     "metadata": {},
     "output_type": "execute_result"
    }
   ],
   "source": [
    "data['location'].value_counts()"
   ]
  },
  {
   "cell_type": "code",
   "execution_count": 10,
   "metadata": {},
   "outputs": [
    {
     "data": {
      "text/plain": [
       "healthy                       3384\n",
       "few varrao, hive beetles       579\n",
       "Varroa, Small Hive Beetles     472\n",
       "ant problems                   457\n",
       "hive being robbed              251\n",
       "missing queen                   29\n",
       "Name: health, dtype: int64"
      ]
     },
     "execution_count": 10,
     "metadata": {},
     "output_type": "execute_result"
    }
   ],
   "source": [
    "data['health'].value_counts()"
   ]
  },
  {
   "cell_type": "code",
   "execution_count": 11,
   "metadata": {},
   "outputs": [
    {
     "data": {
      "text/plain": [
       "Italian honey bee        3008\n",
       "Russian honey bee         527\n",
       "Carniolan honey bee       501\n",
       "1 Mixed local stock 2     472\n",
       "-1                        428\n",
       "VSH Italian honey bee     199\n",
       "Western honey bee          37\n",
       "Name: subspecies, dtype: int64"
      ]
     },
     "execution_count": 11,
     "metadata": {},
     "output_type": "execute_result"
    }
   ],
   "source": [
    "data['subspecies'].value_counts()"
   ]
  },
  {
   "cell_type": "code",
   "execution_count": 12,
   "metadata": {},
   "outputs": [],
   "source": [
    "dummy_location=pd.get_dummies(data['location'],drop_first=True)"
   ]
  },
  {
   "cell_type": "code",
   "execution_count": 13,
   "metadata": {},
   "outputs": [],
   "source": [
    "dummy_health=pd.get_dummies(data['health'],drop_first=True)"
   ]
  },
  {
   "cell_type": "code",
   "execution_count": 14,
   "metadata": {},
   "outputs": [],
   "source": [
    "dummy_subspecies=pd.get_dummies(data['subspecies'],drop_first=True)"
   ]
  },
  {
   "cell_type": "code",
   "execution_count": 15,
   "metadata": {},
   "outputs": [
    {
     "data": {
      "text/html": [
       "<div>\n",
       "<style scoped>\n",
       "    .dataframe tbody tr th:only-of-type {\n",
       "        vertical-align: middle;\n",
       "    }\n",
       "\n",
       "    .dataframe tbody tr th {\n",
       "        vertical-align: top;\n",
       "    }\n",
       "\n",
       "    .dataframe thead th {\n",
       "        text-align: right;\n",
       "    }\n",
       "</style>\n",
       "<table border=\"1\" class=\"dataframe\">\n",
       "  <thead>\n",
       "    <tr style=\"text-align: right;\">\n",
       "      <th></th>\n",
       "      <th>time</th>\n",
       "      <th>location</th>\n",
       "      <th>subspecies</th>\n",
       "      <th>health</th>\n",
       "      <th>pollen_carrying</th>\n",
       "      <th>caste</th>\n",
       "      <th>day</th>\n",
       "      <th>month</th>\n",
       "      <th>year</th>\n",
       "    </tr>\n",
       "  </thead>\n",
       "  <tbody>\n",
       "    <tr>\n",
       "      <th>0</th>\n",
       "      <td>16:07</td>\n",
       "      <td>Alvin, TX, USA</td>\n",
       "      <td>-1</td>\n",
       "      <td>hive being robbed</td>\n",
       "      <td>False</td>\n",
       "      <td>worker</td>\n",
       "      <td>28</td>\n",
       "      <td>8</td>\n",
       "      <td>2018</td>\n",
       "    </tr>\n",
       "    <tr>\n",
       "      <th>1</th>\n",
       "      <td>16:07</td>\n",
       "      <td>Alvin, TX, USA</td>\n",
       "      <td>-1</td>\n",
       "      <td>hive being robbed</td>\n",
       "      <td>False</td>\n",
       "      <td>worker</td>\n",
       "      <td>28</td>\n",
       "      <td>8</td>\n",
       "      <td>2018</td>\n",
       "    </tr>\n",
       "    <tr>\n",
       "      <th>2</th>\n",
       "      <td>16:07</td>\n",
       "      <td>Alvin, TX, USA</td>\n",
       "      <td>-1</td>\n",
       "      <td>hive being robbed</td>\n",
       "      <td>False</td>\n",
       "      <td>worker</td>\n",
       "      <td>28</td>\n",
       "      <td>8</td>\n",
       "      <td>2018</td>\n",
       "    </tr>\n",
       "    <tr>\n",
       "      <th>3</th>\n",
       "      <td>16:07</td>\n",
       "      <td>Alvin, TX, USA</td>\n",
       "      <td>-1</td>\n",
       "      <td>hive being robbed</td>\n",
       "      <td>False</td>\n",
       "      <td>worker</td>\n",
       "      <td>28</td>\n",
       "      <td>8</td>\n",
       "      <td>2018</td>\n",
       "    </tr>\n",
       "    <tr>\n",
       "      <th>4</th>\n",
       "      <td>16:07</td>\n",
       "      <td>Alvin, TX, USA</td>\n",
       "      <td>-1</td>\n",
       "      <td>hive being robbed</td>\n",
       "      <td>False</td>\n",
       "      <td>worker</td>\n",
       "      <td>28</td>\n",
       "      <td>8</td>\n",
       "      <td>2018</td>\n",
       "    </tr>\n",
       "  </tbody>\n",
       "</table>\n",
       "</div>"
      ],
      "text/plain": [
       "    time        location subspecies             health  pollen_carrying  \\\n",
       "0  16:07  Alvin, TX, USA         -1  hive being robbed            False   \n",
       "1  16:07  Alvin, TX, USA         -1  hive being robbed            False   \n",
       "2  16:07  Alvin, TX, USA         -1  hive being robbed            False   \n",
       "3  16:07  Alvin, TX, USA         -1  hive being robbed            False   \n",
       "4  16:07  Alvin, TX, USA         -1  hive being robbed            False   \n",
       "\n",
       "    caste  day  month  year  \n",
       "0  worker   28      8  2018  \n",
       "1  worker   28      8  2018  \n",
       "2  worker   28      8  2018  \n",
       "3  worker   28      8  2018  \n",
       "4  worker   28      8  2018  "
      ]
     },
     "execution_count": 15,
     "metadata": {},
     "output_type": "execute_result"
    }
   ],
   "source": [
    "data.head()"
   ]
  },
  {
   "cell_type": "code",
   "execution_count": 16,
   "metadata": {},
   "outputs": [
    {
     "data": {
      "text/plain": [
       "21    1080\n",
       "6      924\n",
       "19     501\n",
       "18     496\n",
       "17     433\n",
       "2      362\n",
       "7      321\n",
       "28     228\n",
       "10     211\n",
       "16     170\n",
       "20     149\n",
       "8      127\n",
       "25      92\n",
       "3       50\n",
       "13      28\n",
       "Name: day, dtype: int64"
      ]
     },
     "execution_count": 16,
     "metadata": {},
     "output_type": "execute_result"
    }
   ],
   "source": [
    "data['day'].value_counts()"
   ]
  },
  {
   "cell_type": "code",
   "execution_count": 17,
   "metadata": {},
   "outputs": [
    {
     "data": {
      "text/plain": [
       "8    4416\n",
       "7     733\n",
       "9      23\n",
       "Name: month, dtype: int64"
      ]
     },
     "execution_count": 17,
     "metadata": {},
     "output_type": "execute_result"
    }
   ],
   "source": [
    "data['month'].value_counts()"
   ]
  },
  {
   "cell_type": "code",
   "execution_count": 18,
   "metadata": {},
   "outputs": [
    {
     "data": {
      "text/plain": [
       "2018    5172\n",
       "Name: year, dtype: int64"
      ]
     },
     "execution_count": 18,
     "metadata": {},
     "output_type": "execute_result"
    }
   ],
   "source": [
    "data['year'].value_counts()"
   ]
  },
  {
   "cell_type": "code",
   "execution_count": 19,
   "metadata": {},
   "outputs": [
    {
     "data": {
      "text/plain": [
       "worker    5172\n",
       "Name: caste, dtype: int64"
      ]
     },
     "execution_count": 19,
     "metadata": {},
     "output_type": "execute_result"
    }
   ],
   "source": [
    "data['caste'].value_counts()"
   ]
  },
  {
   "cell_type": "code",
   "execution_count": 20,
   "metadata": {},
   "outputs": [
    {
     "data": {
      "text/html": [
       "<div>\n",
       "<style scoped>\n",
       "    .dataframe tbody tr th:only-of-type {\n",
       "        vertical-align: middle;\n",
       "    }\n",
       "\n",
       "    .dataframe tbody tr th {\n",
       "        vertical-align: top;\n",
       "    }\n",
       "\n",
       "    .dataframe thead th {\n",
       "        text-align: right;\n",
       "    }\n",
       "</style>\n",
       "<table border=\"1\" class=\"dataframe\">\n",
       "  <thead>\n",
       "    <tr style=\"text-align: right;\">\n",
       "      <th></th>\n",
       "      <th>time</th>\n",
       "      <th>location</th>\n",
       "      <th>subspecies</th>\n",
       "      <th>health</th>\n",
       "      <th>pollen_carrying</th>\n",
       "      <th>day</th>\n",
       "      <th>month</th>\n",
       "    </tr>\n",
       "  </thead>\n",
       "  <tbody>\n",
       "    <tr>\n",
       "      <th>0</th>\n",
       "      <td>16:07</td>\n",
       "      <td>Alvin, TX, USA</td>\n",
       "      <td>-1</td>\n",
       "      <td>hive being robbed</td>\n",
       "      <td>False</td>\n",
       "      <td>28</td>\n",
       "      <td>8</td>\n",
       "    </tr>\n",
       "    <tr>\n",
       "      <th>1</th>\n",
       "      <td>16:07</td>\n",
       "      <td>Alvin, TX, USA</td>\n",
       "      <td>-1</td>\n",
       "      <td>hive being robbed</td>\n",
       "      <td>False</td>\n",
       "      <td>28</td>\n",
       "      <td>8</td>\n",
       "    </tr>\n",
       "    <tr>\n",
       "      <th>2</th>\n",
       "      <td>16:07</td>\n",
       "      <td>Alvin, TX, USA</td>\n",
       "      <td>-1</td>\n",
       "      <td>hive being robbed</td>\n",
       "      <td>False</td>\n",
       "      <td>28</td>\n",
       "      <td>8</td>\n",
       "    </tr>\n",
       "    <tr>\n",
       "      <th>3</th>\n",
       "      <td>16:07</td>\n",
       "      <td>Alvin, TX, USA</td>\n",
       "      <td>-1</td>\n",
       "      <td>hive being robbed</td>\n",
       "      <td>False</td>\n",
       "      <td>28</td>\n",
       "      <td>8</td>\n",
       "    </tr>\n",
       "    <tr>\n",
       "      <th>4</th>\n",
       "      <td>16:07</td>\n",
       "      <td>Alvin, TX, USA</td>\n",
       "      <td>-1</td>\n",
       "      <td>hive being robbed</td>\n",
       "      <td>False</td>\n",
       "      <td>28</td>\n",
       "      <td>8</td>\n",
       "    </tr>\n",
       "  </tbody>\n",
       "</table>\n",
       "</div>"
      ],
      "text/plain": [
       "    time        location subspecies             health  pollen_carrying  day  \\\n",
       "0  16:07  Alvin, TX, USA         -1  hive being robbed            False   28   \n",
       "1  16:07  Alvin, TX, USA         -1  hive being robbed            False   28   \n",
       "2  16:07  Alvin, TX, USA         -1  hive being robbed            False   28   \n",
       "3  16:07  Alvin, TX, USA         -1  hive being robbed            False   28   \n",
       "4  16:07  Alvin, TX, USA         -1  hive being robbed            False   28   \n",
       "\n",
       "   month  \n",
       "0      8  \n",
       "1      8  \n",
       "2      8  \n",
       "3      8  \n",
       "4      8  "
      ]
     },
     "execution_count": 20,
     "metadata": {},
     "output_type": "execute_result"
    }
   ],
   "source": [
    "data=data.drop(['year','caste'],axis=1)\n",
    "data.head()"
   ]
  },
  {
   "cell_type": "code",
   "execution_count": 21,
   "metadata": {},
   "outputs": [
    {
     "name": "stderr",
     "output_type": "stream",
     "text": [
      "<string>:6: RuntimeWarning: Converting input from bool to <class 'numpy.uint8'> for compatibility.\n",
      "<string>:6: RuntimeWarning: Converting input from bool to <class 'numpy.uint8'> for compatibility.\n"
     ]
    },
    {
     "data": {
      "text/plain": [
       "<seaborn.axisgrid.PairGrid at 0x20b40298188>"
      ]
     },
     "execution_count": 21,
     "metadata": {},
     "output_type": "execute_result"
    },
    {
     "data": {
      "image/png": "[encoded data removed]",
      "text/plain": [
       "<Figure size 540x540 with 12 Axes>"
      ]
     },
     "metadata": {
      "needs_background": "light"
     },
     "output_type": "display_data"
    }
   ],
   "source": [
    "sn.pairplot(data)"
   ]
  },
  {
   "cell_type": "code",
   "execution_count": 22,
   "metadata": {},
   "outputs": [
    {
     "data": {
      "text/plain": [
       "<AxesSubplot:>"
      ]
     },
     "execution_count": 22,
     "metadata": {},
     "output_type": "execute_result"
    },
    {
     "data": {
      "image/png": "[encoded data removed]",
      "text/plain": [
       "<Figure size 432x288 with 2 Axes>"
      ]
     },
     "metadata": {
      "needs_background": "light"
     },
     "output_type": "display_data"
    }
   ],
   "source": [
    "sn.heatmap(data.corr(),annot=True)"
   ]
  },
  {
   "cell_type": "code",
   "execution_count": 23,
   "metadata": {},
   "outputs": [],
   "source": [
    "data['time']=pd.to_datetime(data['time'])\n",
    "data['hour']=data['time'].dt.hour"
   ]
  },
  {
   "cell_type": "code",
   "execution_count": 24,
   "metadata": {},
   "outputs": [
    {
     "data": {
      "text/plain": [
       "12    1139\n",
       "15     976\n",
       "13     938\n",
       "9      519\n",
       "17     433\n",
       "19     303\n",
       "16     254\n",
       "8      170\n",
       "11     157\n",
       "14     129\n",
       "21     104\n",
       "10      38\n",
       "18      12\n",
       "Name: hour, dtype: int64"
      ]
     },
     "execution_count": 24,
     "metadata": {},
     "output_type": "execute_result"
    }
   ],
   "source": [
    "data['hour'].value_counts()"
   ]
  },
  {
   "cell_type": "code",
   "execution_count": 25,
   "metadata": {},
   "outputs": [
    {
     "data": {
      "text/plain": [
       "56    882\n",
       "30    769\n",
       "19    763\n",
       "0     541\n",
       "46    489\n",
       "50    433\n",
       "54    230\n",
       "7     181\n",
       "20    180\n",
       "21    124\n",
       "57    114\n",
       "55    111\n",
       "13    104\n",
       "10     50\n",
       "53     41\n",
       "49     29\n",
       "36     24\n",
       "8      23\n",
       "48     19\n",
       "25     18\n",
       "47     15\n",
       "35     15\n",
       "3      10\n",
       "11      7\n",
       "Name: minutes, dtype: int64"
      ]
     },
     "execution_count": 25,
     "metadata": {},
     "output_type": "execute_result"
    }
   ],
   "source": [
    "data['minutes']=data['time'].dt.minute\n",
    "data['minutes'].value_counts()"
   ]
  },
  {
   "cell_type": "code",
   "execution_count": 26,
   "metadata": {},
   "outputs": [],
   "source": [
    "data=data.drop(['time','location','health'],axis=1)"
   ]
  },
  {
   "cell_type": "code",
   "execution_count": 27,
   "metadata": {},
   "outputs": [],
   "source": [
    "data=pd.concat([dummy_location,dummy_health,dummy_subspecies,data['minutes'],data['hour'],data['pollen_carrying']],axis=1)"
   ]
  },
  {
   "cell_type": "code",
   "execution_count": 28,
   "metadata": {},
   "outputs": [
    {
     "data": {
      "text/html": [
       "<div>\n",
       "<style scoped>\n",
       "    .dataframe tbody tr th:only-of-type {\n",
       "        vertical-align: middle;\n",
       "    }\n",
       "\n",
       "    .dataframe tbody tr th {\n",
       "        vertical-align: top;\n",
       "    }\n",
       "\n",
       "    .dataframe thead th {\n",
       "        text-align: right;\n",
       "    }\n",
       "</style>\n",
       "<table border=\"1\" class=\"dataframe\">\n",
       "  <thead>\n",
       "    <tr style=\"text-align: right;\">\n",
       "      <th></th>\n",
       "      <th>Athens, GA, USA</th>\n",
       "      <th>Athens, Georgia, USA</th>\n",
       "      <th>Des Moines, IA, USA</th>\n",
       "      <th>Keene, NH, USA</th>\n",
       "      <th>New Orleans, LA, USA</th>\n",
       "      <th>San Jose, CA, USA</th>\n",
       "      <th>Saratoga, CA, USA</th>\n",
       "      <th>ant problems</th>\n",
       "      <th>few varrao, hive beetles</th>\n",
       "      <th>healthy</th>\n",
       "      <th>...</th>\n",
       "      <th>missing queen</th>\n",
       "      <th>1 Mixed local stock 2</th>\n",
       "      <th>Carniolan honey bee</th>\n",
       "      <th>Italian honey bee</th>\n",
       "      <th>Russian honey bee</th>\n",
       "      <th>VSH Italian honey bee</th>\n",
       "      <th>Western honey bee</th>\n",
       "      <th>minutes</th>\n",
       "      <th>hour</th>\n",
       "      <th>pollen_carrying</th>\n",
       "    </tr>\n",
       "  </thead>\n",
       "  <tbody>\n",
       "    <tr>\n",
       "      <th>0</th>\n",
       "      <td>0</td>\n",
       "      <td>0</td>\n",
       "      <td>0</td>\n",
       "      <td>0</td>\n",
       "      <td>0</td>\n",
       "      <td>0</td>\n",
       "      <td>0</td>\n",
       "      <td>0</td>\n",
       "      <td>0</td>\n",
       "      <td>0</td>\n",
       "      <td>...</td>\n",
       "      <td>0</td>\n",
       "      <td>0</td>\n",
       "      <td>0</td>\n",
       "      <td>0</td>\n",
       "      <td>0</td>\n",
       "      <td>0</td>\n",
       "      <td>0</td>\n",
       "      <td>7</td>\n",
       "      <td>16</td>\n",
       "      <td>False</td>\n",
       "    </tr>\n",
       "    <tr>\n",
       "      <th>1</th>\n",
       "      <td>0</td>\n",
       "      <td>0</td>\n",
       "      <td>0</td>\n",
       "      <td>0</td>\n",
       "      <td>0</td>\n",
       "      <td>0</td>\n",
       "      <td>0</td>\n",
       "      <td>0</td>\n",
       "      <td>0</td>\n",
       "      <td>0</td>\n",
       "      <td>...</td>\n",
       "      <td>0</td>\n",
       "      <td>0</td>\n",
       "      <td>0</td>\n",
       "      <td>0</td>\n",
       "      <td>0</td>\n",
       "      <td>0</td>\n",
       "      <td>0</td>\n",
       "      <td>7</td>\n",
       "      <td>16</td>\n",
       "      <td>False</td>\n",
       "    </tr>\n",
       "    <tr>\n",
       "      <th>2</th>\n",
       "      <td>0</td>\n",
       "      <td>0</td>\n",
       "      <td>0</td>\n",
       "      <td>0</td>\n",
       "      <td>0</td>\n",
       "      <td>0</td>\n",
       "      <td>0</td>\n",
       "      <td>0</td>\n",
       "      <td>0</td>\n",
       "      <td>0</td>\n",
       "      <td>...</td>\n",
       "      <td>0</td>\n",
       "      <td>0</td>\n",
       "      <td>0</td>\n",
       "      <td>0</td>\n",
       "      <td>0</td>\n",
       "      <td>0</td>\n",
       "      <td>0</td>\n",
       "      <td>7</td>\n",
       "      <td>16</td>\n",
       "      <td>False</td>\n",
       "    </tr>\n",
       "    <tr>\n",
       "      <th>3</th>\n",
       "      <td>0</td>\n",
       "      <td>0</td>\n",
       "      <td>0</td>\n",
       "      <td>0</td>\n",
       "      <td>0</td>\n",
       "      <td>0</td>\n",
       "      <td>0</td>\n",
       "      <td>0</td>\n",
       "      <td>0</td>\n",
       "      <td>0</td>\n",
       "      <td>...</td>\n",
       "      <td>0</td>\n",
       "      <td>0</td>\n",
       "      <td>0</td>\n",
       "      <td>0</td>\n",
       "      <td>0</td>\n",
       "      <td>0</td>\n",
       "      <td>0</td>\n",
       "      <td>7</td>\n",
       "      <td>16</td>\n",
       "      <td>False</td>\n",
       "    </tr>\n",
       "    <tr>\n",
       "      <th>4</th>\n",
       "      <td>0</td>\n",
       "      <td>0</td>\n",
       "      <td>0</td>\n",
       "      <td>0</td>\n",
       "      <td>0</td>\n",
       "      <td>0</td>\n",
       "      <td>0</td>\n",
       "      <td>0</td>\n",
       "      <td>0</td>\n",
       "      <td>0</td>\n",
       "      <td>...</td>\n",
       "      <td>0</td>\n",
       "      <td>0</td>\n",
       "      <td>0</td>\n",
       "      <td>0</td>\n",
       "      <td>0</td>\n",
       "      <td>0</td>\n",
       "      <td>0</td>\n",
       "      <td>7</td>\n",
       "      <td>16</td>\n",
       "      <td>False</td>\n",
       "    </tr>\n",
       "  </tbody>\n",
       "</table>\n",
       "<p>5 rows × 21 columns</p>\n",
       "</div>"
      ],
      "text/plain": [
       "   Athens, GA, USA  Athens, Georgia, USA  Des Moines, IA, USA  Keene, NH, USA  \\\n",
       "0                0                     0                    0               0   \n",
       "1                0                     0                    0               0   \n",
       "2                0                     0                    0               0   \n",
       "3                0                     0                    0               0   \n",
       "4                0                     0                    0               0   \n",
       "\n",
       "   New Orleans, LA, USA  San Jose, CA, USA  Saratoga, CA, USA  ant problems  \\\n",
       "0                     0                  0                  0             0   \n",
       "1                     0                  0                  0             0   \n",
       "2                     0                  0                  0             0   \n",
       "3                     0                  0                  0             0   \n",
       "4                     0                  0                  0             0   \n",
       "\n",
       "   few varrao, hive beetles  healthy  ...  missing queen  \\\n",
       "0                         0        0  ...              0   \n",
       "1                         0        0  ...              0   \n",
       "2                         0        0  ...              0   \n",
       "3                         0        0  ...              0   \n",
       "4                         0        0  ...              0   \n",
       "\n",
       "   1 Mixed local stock 2  Carniolan honey bee  Italian honey bee  \\\n",
       "0                      0                    0                  0   \n",
       "1                      0                    0                  0   \n",
       "2                      0                    0                  0   \n",
       "3                      0                    0                  0   \n",
       "4                      0                    0                  0   \n",
       "\n",
       "   Russian honey bee  VSH Italian honey bee  Western honey bee  minutes  hour  \\\n",
       "0                  0                      0                  0        7    16   \n",
       "1                  0                      0                  0        7    16   \n",
       "2                  0                      0                  0        7    16   \n",
       "3                  0                      0                  0        7    16   \n",
       "4                  0                      0                  0        7    16   \n",
       "\n",
       "   pollen_carrying  \n",
       "0            False  \n",
       "1            False  \n",
       "2            False  \n",
       "3            False  \n",
       "4            False  \n",
       "\n",
       "[5 rows x 21 columns]"
      ]
     },
     "execution_count": 28,
     "metadata": {},
     "output_type": "execute_result"
    }
   ],
   "source": [
    "data.head()"
   ]
  },
  {
   "cell_type": "code",
   "execution_count": 29,
   "metadata": {},
   "outputs": [],
   "source": [
    "x=data.drop(['pollen_carrying'],axis=1)\n",
    "y=data['pollen_carrying']"
   ]
  },
  {
   "cell_type": "code",
   "execution_count": 30,
   "metadata": {},
   "outputs": [],
   "source": [
    "from sklearn.model_selection import train_test_split"
   ]
  },
  {
   "cell_type": "code",
   "execution_count": 31,
   "metadata": {},
   "outputs": [],
   "source": [
    "xtrain,xtest,ytrain,ytest=train_test_split(x,y,test_size=0.33,random_state=42)"
   ]
  },
  {
   "cell_type": "code",
   "execution_count": 32,
   "metadata": {},
   "outputs": [
    {
     "data": {
      "text/html": [
       "<div>\n",
       "<style scoped>\n",
       "    .dataframe tbody tr th:only-of-type {\n",
       "        vertical-align: middle;\n",
       "    }\n",
       "\n",
       "    .dataframe tbody tr th {\n",
       "        vertical-align: top;\n",
       "    }\n",
       "\n",
       "    .dataframe thead th {\n",
       "        text-align: right;\n",
       "    }\n",
       "</style>\n",
       "<table border=\"1\" class=\"dataframe\">\n",
       "  <thead>\n",
       "    <tr style=\"text-align: right;\">\n",
       "      <th></th>\n",
       "      <th>Athens, GA, USA</th>\n",
       "      <th>Athens, Georgia, USA</th>\n",
       "      <th>Des Moines, IA, USA</th>\n",
       "      <th>Keene, NH, USA</th>\n",
       "      <th>New Orleans, LA, USA</th>\n",
       "      <th>San Jose, CA, USA</th>\n",
       "      <th>Saratoga, CA, USA</th>\n",
       "      <th>ant problems</th>\n",
       "      <th>few varrao, hive beetles</th>\n",
       "      <th>healthy</th>\n",
       "      <th>hive being robbed</th>\n",
       "      <th>missing queen</th>\n",
       "      <th>1 Mixed local stock 2</th>\n",
       "      <th>Carniolan honey bee</th>\n",
       "      <th>Italian honey bee</th>\n",
       "      <th>Russian honey bee</th>\n",
       "      <th>VSH Italian honey bee</th>\n",
       "      <th>Western honey bee</th>\n",
       "      <th>minutes</th>\n",
       "      <th>hour</th>\n",
       "    </tr>\n",
       "  </thead>\n",
       "  <tbody>\n",
       "    <tr>\n",
       "      <th>801</th>\n",
       "      <td>0</td>\n",
       "      <td>0</td>\n",
       "      <td>0</td>\n",
       "      <td>0</td>\n",
       "      <td>0</td>\n",
       "      <td>0</td>\n",
       "      <td>0</td>\n",
       "      <td>1</td>\n",
       "      <td>0</td>\n",
       "      <td>0</td>\n",
       "      <td>0</td>\n",
       "      <td>0</td>\n",
       "      <td>0</td>\n",
       "      <td>0</td>\n",
       "      <td>1</td>\n",
       "      <td>0</td>\n",
       "      <td>0</td>\n",
       "      <td>0</td>\n",
       "      <td>50</td>\n",
       "      <td>17</td>\n",
       "    </tr>\n",
       "    <tr>\n",
       "      <th>1288</th>\n",
       "      <td>0</td>\n",
       "      <td>0</td>\n",
       "      <td>0</td>\n",
       "      <td>0</td>\n",
       "      <td>0</td>\n",
       "      <td>0</td>\n",
       "      <td>1</td>\n",
       "      <td>0</td>\n",
       "      <td>0</td>\n",
       "      <td>1</td>\n",
       "      <td>0</td>\n",
       "      <td>0</td>\n",
       "      <td>0</td>\n",
       "      <td>0</td>\n",
       "      <td>1</td>\n",
       "      <td>0</td>\n",
       "      <td>0</td>\n",
       "      <td>0</td>\n",
       "      <td>56</td>\n",
       "      <td>12</td>\n",
       "    </tr>\n",
       "    <tr>\n",
       "      <th>1558</th>\n",
       "      <td>1</td>\n",
       "      <td>0</td>\n",
       "      <td>0</td>\n",
       "      <td>0</td>\n",
       "      <td>0</td>\n",
       "      <td>0</td>\n",
       "      <td>0</td>\n",
       "      <td>0</td>\n",
       "      <td>1</td>\n",
       "      <td>0</td>\n",
       "      <td>0</td>\n",
       "      <td>0</td>\n",
       "      <td>0</td>\n",
       "      <td>0</td>\n",
       "      <td>1</td>\n",
       "      <td>0</td>\n",
       "      <td>0</td>\n",
       "      <td>0</td>\n",
       "      <td>56</td>\n",
       "      <td>15</td>\n",
       "    </tr>\n",
       "    <tr>\n",
       "      <th>2407</th>\n",
       "      <td>0</td>\n",
       "      <td>0</td>\n",
       "      <td>0</td>\n",
       "      <td>0</td>\n",
       "      <td>0</td>\n",
       "      <td>0</td>\n",
       "      <td>1</td>\n",
       "      <td>0</td>\n",
       "      <td>0</td>\n",
       "      <td>1</td>\n",
       "      <td>0</td>\n",
       "      <td>0</td>\n",
       "      <td>0</td>\n",
       "      <td>0</td>\n",
       "      <td>1</td>\n",
       "      <td>0</td>\n",
       "      <td>0</td>\n",
       "      <td>0</td>\n",
       "      <td>30</td>\n",
       "      <td>15</td>\n",
       "    </tr>\n",
       "    <tr>\n",
       "      <th>2617</th>\n",
       "      <td>0</td>\n",
       "      <td>0</td>\n",
       "      <td>0</td>\n",
       "      <td>0</td>\n",
       "      <td>0</td>\n",
       "      <td>0</td>\n",
       "      <td>1</td>\n",
       "      <td>0</td>\n",
       "      <td>0</td>\n",
       "      <td>1</td>\n",
       "      <td>0</td>\n",
       "      <td>0</td>\n",
       "      <td>0</td>\n",
       "      <td>0</td>\n",
       "      <td>1</td>\n",
       "      <td>0</td>\n",
       "      <td>0</td>\n",
       "      <td>0</td>\n",
       "      <td>30</td>\n",
       "      <td>15</td>\n",
       "    </tr>\n",
       "  </tbody>\n",
       "</table>\n",
       "</div>"
      ],
      "text/plain": [
       "      Athens, GA, USA  Athens, Georgia, USA  Des Moines, IA, USA  \\\n",
       "801                 0                     0                    0   \n",
       "1288                0                     0                    0   \n",
       "1558                1                     0                    0   \n",
       "2407                0                     0                    0   \n",
       "2617                0                     0                    0   \n",
       "\n",
       "      Keene, NH, USA  New Orleans, LA, USA  San Jose, CA, USA  \\\n",
       "801                0                     0                  0   \n",
       "1288               0                     0                  0   \n",
       "1558               0                     0                  0   \n",
       "2407               0                     0                  0   \n",
       "2617               0                     0                  0   \n",
       "\n",
       "      Saratoga, CA, USA  ant problems  few varrao, hive beetles  healthy  \\\n",
       "801                   0             1                         0        0   \n",
       "1288                  1             0                         0        1   \n",
       "1558                  0             0                         1        0   \n",
       "2407                  1             0                         0        1   \n",
       "2617                  1             0                         0        1   \n",
       "\n",
       "      hive being robbed  missing queen  1 Mixed local stock 2  \\\n",
       "801                   0              0                      0   \n",
       "1288                  0              0                      0   \n",
       "1558                  0              0                      0   \n",
       "2407                  0              0                      0   \n",
       "2617                  0              0                      0   \n",
       "\n",
       "      Carniolan honey bee  Italian honey bee  Russian honey bee  \\\n",
       "801                     0                  1                  0   \n",
       "1288                    0                  1                  0   \n",
       "1558                    0                  1                  0   \n",
       "2407                    0                  1                  0   \n",
       "2617                    0                  1                  0   \n",
       "\n",
       "      VSH Italian honey bee  Western honey bee  minutes  hour  \n",
       "801                       0                  0       50    17  \n",
       "1288                      0                  0       56    12  \n",
       "1558                      0                  0       56    15  \n",
       "2407                      0                  0       30    15  \n",
       "2617                      0                  0       30    15  "
      ]
     },
     "execution_count": 32,
     "metadata": {},
     "output_type": "execute_result"
    }
   ],
   "source": [
    "xtrain.head()"
   ]
  },
  {
   "cell_type": "code",
   "execution_count": 33,
   "metadata": {},
   "outputs": [
    {
     "data": {
      "text/plain": [
       "801     False\n",
       "1288    False\n",
       "1558    False\n",
       "2407    False\n",
       "2617    False\n",
       "Name: pollen_carrying, dtype: bool"
      ]
     },
     "execution_count": 33,
     "metadata": {},
     "output_type": "execute_result"
    }
   ],
   "source": [
    "ytrain.head()"
   ]
  },
  {
   "cell_type": "code",
   "execution_count": 34,
   "metadata": {},
   "outputs": [],
   "source": [
    "from sklearn.preprocessing import StandardScaler\n",
    "sc=StandardScaler()\n",
    "xtrain=sc.fit_transform(xtrain)\n",
    "xtest=sc.transform(xtest)"
   ]
  },
  {
   "cell_type": "code",
   "execution_count": 35,
   "metadata": {},
   "outputs": [
    {
     "data": {
      "text/plain": [
       "array([[-0.35200183, -0.31788145, -0.49458272, ..., -0.09345386,\n",
       "         0.85455491,  1.19794436],\n",
       "       [-0.35200183, -0.31788145, -0.49458272, ..., -0.09345386,\n",
       "         1.16455659, -0.52098773],\n",
       "       [ 2.84089434, -0.31788145, -0.49458272, ..., -0.09345386,\n",
       "         1.16455659,  0.51037153],\n",
       "       ...,\n",
       "       [-0.35200183, -0.31788145, -0.49458272, ..., -0.09345386,\n",
       "        -1.36712383,  0.85415794],\n",
       "       [-0.35200183, -0.31788145,  2.02190646, ..., -0.09345386,\n",
       "        -1.72879246, -1.55234699],\n",
       "       [-0.35200183, -0.31788145, -0.49458272, ..., -0.09345386,\n",
       "         0.85455491,  1.19794436]])"
      ]
     },
     "execution_count": 35,
     "metadata": {},
     "output_type": "execute_result"
    }
   ],
   "source": [
    "xtrain"
   ]
  },
  {
   "cell_type": "code",
   "execution_count": 36,
   "metadata": {},
   "outputs": [
    {
     "data": {
      "text/plain": [
       "array([[ 2.84089434, -0.31788145, -0.49458272, ..., -0.09345386,\n",
       "         1.16455659,  0.51037153],\n",
       "       [-0.35200183, -0.31788145, -0.49458272, ..., -0.09345386,\n",
       "         1.11288964, -0.86477415],\n",
       "       [-0.35200183, -0.31788145, -0.49458272, ..., -0.09345386,\n",
       "         1.16455659, -0.52098773],\n",
       "       ...,\n",
       "       [-0.35200183, -0.31788145,  2.02190646, ..., -0.09345386,\n",
       "         0.64788712, -0.52098773],\n",
       "       [-0.35200183, -0.31788145, -0.49458272, ..., -0.09345386,\n",
       "         1.16455659, -0.52098773],\n",
       "       [ 2.84089434, -0.31788145, -0.49458272, ..., -0.09345386,\n",
       "         1.16455659,  0.51037153]])"
      ]
     },
     "execution_count": 36,
     "metadata": {},
     "output_type": "execute_result"
    }
   ],
   "source": [
    "xtest"
   ]
  },
  {
   "cell_type": "code",
   "execution_count": 37,
   "metadata": {},
   "outputs": [
    {
     "data": {
      "text/plain": [
       "(3465, 20)"
      ]
     },
     "execution_count": 37,
     "metadata": {},
     "output_type": "execute_result"
    }
   ],
   "source": [
    "xtrain.shape"
   ]
  },
  {
   "cell_type": "code",
   "execution_count": 38,
   "metadata": {},
   "outputs": [
    {
     "name": "stdout",
     "output_type": "stream",
     "text": [
      "Requirement already satisfied: keras in c:\\users\\admin\\anaconda3\\envs\\kavyaniharika\\lib\\site-packages (2.4.3)\n",
      "Requirement already satisfied: numpy>=1.9.1 in c:\\users\\admin\\anaconda3\\envs\\kavyaniharika\\lib\\site-packages (from keras) (1.19.5)\n",
      "Requirement already satisfied: pyyaml in c:\\users\\admin\\anaconda3\\envs\\kavyaniharika\\lib\\site-packages (from keras) (5.3.1)\n",
      "Requirement already satisfied: h5py in c:\\users\\admin\\anaconda3\\envs\\kavyaniharika\\lib\\site-packages (from keras) (2.10.0)\n",
      "Requirement already satisfied: scipy>=0.14 in c:\\users\\admin\\anaconda3\\envs\\kavyaniharika\\lib\\site-packages (from keras) (1.5.2)\n",
      "Requirement already satisfied: six in c:\\users\\admin\\anaconda3\\envs\\kavyaniharika\\lib\\site-packages (from h5py->keras) (1.15.0)\n"
     ]
    }
   ],
   "source": [
    "!pip install keras"
   ]
  },
  {
   "cell_type": "code",
   "execution_count": 39,
   "metadata": {},
   "outputs": [
    {
     "name": "stdout",
     "output_type": "stream",
     "text": [
      "Requirement already satisfied: tensorflow in c:\\users\\admin\\anaconda3\\envs\\kavyaniharika\\lib\\site-packages (2.4.1)\n",
      "Requirement already satisfied: protobuf>=3.9.2 in c:\\users\\admin\\anaconda3\\envs\\kavyaniharika\\lib\\site-packages (from tensorflow) (3.15.6)\n",
      "Requirement already satisfied: grpcio~=1.32.0 in c:\\users\\admin\\anaconda3\\envs\\kavyaniharika\\lib\\site-packages (from tensorflow) (1.32.0)\n",
      "Requirement already satisfied: keras-preprocessing~=1.1.2 in c:\\users\\admin\\anaconda3\\envs\\kavyaniharika\\lib\\site-packages (from tensorflow) (1.1.2)\n",
      "Requirement already satisfied: wrapt~=1.12.1 in c:\\users\\admin\\anaconda3\\envs\\kavyaniharika\\lib\\site-packages (from tensorflow) (1.12.1)\n",
      "Requirement already satisfied: gast==0.3.3 in c:\\users\\admin\\anaconda3\\envs\\kavyaniharika\\lib\\site-packages (from tensorflow) (0.3.3)\n",
      "Requirement already satisfied: wheel~=0.35 in c:\\users\\admin\\anaconda3\\envs\\kavyaniharika\\lib\\site-packages (from tensorflow) (0.35.1)\n",
      "Requirement already satisfied: opt-einsum~=3.3.0 in c:\\users\\admin\\anaconda3\\envs\\kavyaniharika\\lib\\site-packages (from tensorflow) (3.3.0)\n",
      "Requirement already satisfied: numpy~=1.19.2 in c:\\users\\admin\\anaconda3\\envs\\kavyaniharika\\lib\\site-packages (from tensorflow) (1.19.5)\n",
      "Requirement already satisfied: astunparse~=1.6.3 in c:\\users\\admin\\anaconda3\\envs\\kavyaniharika\\lib\\site-packages (from tensorflow) (1.6.3)\n",
      "Requirement already satisfied: six~=1.15.0 in c:\\users\\admin\\anaconda3\\envs\\kavyaniharika\\lib\\site-packages (from tensorflow) (1.15.0)\n",
      "Requirement already satisfied: flatbuffers~=1.12.0 in c:\\users\\admin\\anaconda3\\envs\\kavyaniharika\\lib\\site-packages (from tensorflow) (1.12)\n",
      "Requirement already satisfied: absl-py~=0.10 in c:\\users\\admin\\anaconda3\\envs\\kavyaniharika\\lib\\site-packages (from tensorflow) (0.12.0)\n",
      "Requirement already satisfied: termcolor~=1.1.0 in c:\\users\\admin\\anaconda3\\envs\\kavyaniharika\\lib\\site-packages (from tensorflow) (1.1.0)\n",
      "Requirement already satisfied: typing-extensions~=3.7.4 in c:\\users\\admin\\anaconda3\\envs\\kavyaniharika\\lib\\site-packages (from tensorflow) (3.7.4.3)\n",
      "Requirement already satisfied: tensorboard~=2.4 in c:\\users\\admin\\anaconda3\\envs\\kavyaniharika\\lib\\site-packages (from tensorflow) (2.4.1)\n",
      "Requirement already satisfied: google-pasta~=0.2 in c:\\users\\admin\\anaconda3\\envs\\kavyaniharika\\lib\\site-packages (from tensorflow) (0.2.0)\n",
      "Requirement already satisfied: tensorflow-estimator<2.5.0,>=2.4.0 in c:\\users\\admin\\anaconda3\\envs\\kavyaniharika\\lib\\site-packages (from tensorflow) (2.4.0)\n",
      "Requirement already satisfied: h5py~=2.10.0 in c:\\users\\admin\\anaconda3\\envs\\kavyaniharika\\lib\\site-packages (from tensorflow) (2.10.0)\n",
      "Requirement already satisfied: werkzeug>=0.11.15 in c:\\users\\admin\\anaconda3\\envs\\kavyaniharika\\lib\\site-packages (from tensorboard~=2.4->tensorflow) (1.0.1)\n",
      "Requirement already satisfied: tensorboard-plugin-wit>=1.6.0 in c:\\users\\admin\\anaconda3\\envs\\kavyaniharika\\lib\\site-packages (from tensorboard~=2.4->tensorflow) (1.8.0)\n",
      "Requirement already satisfied: requests<3,>=2.21.0 in c:\\users\\admin\\anaconda3\\envs\\kavyaniharika\\lib\\site-packages (from tensorboard~=2.4->tensorflow) (2.24.0)\n",
      "Requirement already satisfied: setuptools>=41.0.0 in c:\\users\\admin\\anaconda3\\envs\\kavyaniharika\\lib\\site-packages (from tensorboard~=2.4->tensorflow) (50.3.1.post20201107)\n",
      "Requirement already satisfied: markdown>=2.6.8 in c:\\users\\admin\\anaconda3\\envs\\kavyaniharika\\lib\\site-packages (from tensorboard~=2.4->tensorflow) (3.3.4)\n",
      "Requirement already satisfied: google-auth-oauthlib<0.5,>=0.4.1 in c:\\users\\admin\\anaconda3\\envs\\kavyaniharika\\lib\\site-packages (from tensorboard~=2.4->tensorflow) (0.4.3)\n",
      "Requirement already satisfied: google-auth<2,>=1.6.3 in c:\\users\\admin\\anaconda3\\envs\\kavyaniharika\\lib\\site-packages (from tensorboard~=2.4->tensorflow) (1.28.0)\n",
      "Requirement already satisfied: chardet<4,>=3.0.2 in c:\\users\\admin\\anaconda3\\envs\\kavyaniharika\\lib\\site-packages (from requests<3,>=2.21.0->tensorboard~=2.4->tensorflow) (3.0.4)\n",
      "Requirement already satisfied: urllib3!=1.25.0,!=1.25.1,<1.26,>=1.21.1 in c:\\users\\admin\\anaconda3\\envs\\kavyaniharika\\lib\\site-packages (from requests<3,>=2.21.0->tensorboard~=2.4->tensorflow) (1.25.11)\n",
      "Requirement already satisfied: certifi>=2017.4.17 in c:\\users\\admin\\anaconda3\\envs\\kavyaniharika\\lib\\site-packages (from requests<3,>=2.21.0->tensorboard~=2.4->tensorflow) (2020.6.20)\n",
      "Requirement already satisfied: idna<3,>=2.5 in c:\\users\\admin\\anaconda3\\envs\\kavyaniharika\\lib\\site-packages (from requests<3,>=2.21.0->tensorboard~=2.4->tensorflow) (2.10)\n",
      "Requirement already satisfied: importlib-metadata; python_version < \"3.8\" in c:\\users\\admin\\anaconda3\\envs\\kavyaniharika\\lib\\site-packages (from markdown>=2.6.8->tensorboard~=2.4->tensorflow) (2.0.0)\n",
      "Requirement already satisfied: requests-oauthlib>=0.7.0 in c:\\users\\admin\\anaconda3\\envs\\kavyaniharika\\lib\\site-packages (from google-auth-oauthlib<0.5,>=0.4.1->tensorboard~=2.4->tensorflow) (1.3.0)\n",
      "Requirement already satisfied: cachetools<5.0,>=2.0.0 in c:\\users\\admin\\anaconda3\\envs\\kavyaniharika\\lib\\site-packages (from google-auth<2,>=1.6.3->tensorboard~=2.4->tensorflow) (4.2.1)\n",
      "Requirement already satisfied: rsa<5,>=3.1.4; python_version >= \"3.6\" in c:\\users\\admin\\anaconda3\\envs\\kavyaniharika\\lib\\site-packages (from google-auth<2,>=1.6.3->tensorboard~=2.4->tensorflow) (4.7.2)\n",
      "Requirement already satisfied: pyasn1-modules>=0.2.1 in c:\\users\\admin\\anaconda3\\envs\\kavyaniharika\\lib\\site-packages (from google-auth<2,>=1.6.3->tensorboard~=2.4->tensorflow) (0.2.8)\n",
      "Requirement already satisfied: zipp>=0.5 in c:\\users\\admin\\anaconda3\\envs\\kavyaniharika\\lib\\site-packages (from importlib-metadata; python_version < \"3.8\"->markdown>=2.6.8->tensorboard~=2.4->tensorflow) (3.4.0)\n",
      "Requirement already satisfied: oauthlib>=3.0.0 in c:\\users\\admin\\anaconda3\\envs\\kavyaniharika\\lib\\site-packages (from requests-oauthlib>=0.7.0->google-auth-oauthlib<0.5,>=0.4.1->tensorboard~=2.4->tensorflow) (3.1.0)\n",
      "Requirement already satisfied: pyasn1>=0.1.3 in c:\\users\\admin\\anaconda3\\envs\\kavyaniharika\\lib\\site-packages (from rsa<5,>=3.1.4; python_version >= \"3.6\"->google-auth<2,>=1.6.3->tensorboard~=2.4->tensorflow) (0.4.8)\n"
     ]
    }
   ],
   "source": [
    "!pip install tensorflow"
   ]
  },
  {
   "cell_type": "code",
   "execution_count": 40,
   "metadata": {},
   "outputs": [],
   "source": [
    "import keras"
   ]
  },
  {
   "cell_type": "code",
   "execution_count": 41,
   "metadata": {},
   "outputs": [],
   "source": [
    "from keras.models import Sequential\n",
    "from keras.layers import Dense,Dropout,BatchNormalization,Activation,Embedding,Flatten\n",
    "from keras.activations import relu,sigmoid\n",
    "from keras.layers import ReLU,LeakyReLU,PReLU,ELU\n"
   ]
  },
  {
   "cell_type": "code",
   "execution_count": 42,
   "metadata": {},
   "outputs": [],
   "source": [
    "ann = Sequential()"
   ]
  },
  {
   "cell_type": "code",
   "execution_count": 43,
   "metadata": {},
   "outputs": [],
   "source": [
    "ann.add(Dense(units=15,kernel_initializer='he_uniform',activation='relu',input_dim=20))\n",
    "ann.add(Dense(units=10,kernel_initializer='he_uniform',activation='relu'))\n",
    "ann.add(Dense(units=5,kernel_initializer='he_uniform',activation='relu'))\n",
    "ann.add(Dense(units=1,kernel_initializer='glorot_uniform',activation='sigmoid'))\n"
   ]
  },
  {
   "cell_type": "code",
   "execution_count": 44,
   "metadata": {},
   "outputs": [],
   "source": [
    "ann.compile(optimizer='Adamax',loss='binary_crossentropy',metrics=['accuracy'])"
   ]
  },
  {
   "cell_type": "code",
   "execution_count": 45,
   "metadata": {},
   "outputs": [
    {
     "name": "stdout",
     "output_type": "stream",
     "text": [
      "Epoch 1/100\n",
      "347/347 [==============================] - 1s 1ms/step - loss: 0.2214 - accuracy: 0.9663\n",
      "Epoch 2/100\n",
      "347/347 [==============================] - 0s 961us/step - loss: 0.0335 - accuracy: 0.9978\n",
      "Epoch 3/100\n",
      "347/347 [==============================] - 0s 898us/step - loss: 0.0216 - accuracy: 0.9980\n",
      "Epoch 4/100\n",
      "347/347 [==============================] - 0s 891us/step - loss: 0.0226 - accuracy: 0.9974\n",
      "Epoch 5/100\n",
      "347/347 [==============================] - 0s 723us/step - loss: 0.0219 - accuracy: 0.9973\n",
      "Epoch 6/100\n",
      "347/347 [==============================] - 0s 819us/step - loss: 0.0190 - accuracy: 0.9975\n",
      "Epoch 7/100\n",
      "347/347 [==============================] - 0s 890us/step - loss: 0.0171 - accuracy: 0.9977\n",
      "Epoch 8/100\n",
      "347/347 [==============================] - 0s 898us/step - loss: 0.0166 - accuracy: 0.9973\n",
      "Epoch 9/100\n",
      "347/347 [==============================] - 0s 861us/step - loss: 0.0130 - accuracy: 0.9981\n",
      "Epoch 10/100\n",
      "347/347 [==============================] - 0s 1ms/step - loss: 0.0126 - accuracy: 0.9982\n",
      "Epoch 11/100\n",
      "347/347 [==============================] - 0s 1ms/step - loss: 0.0214 - accuracy: 0.9965\n",
      "Epoch 12/100\n",
      "347/347 [==============================] - 0s 1ms/step - loss: 0.0168 - accuracy: 0.9976\n",
      "Epoch 13/100\n",
      "347/347 [==============================] - 0s 1ms/step - loss: 0.0143 - accuracy: 0.9970\n",
      "Epoch 14/100\n",
      "347/347 [==============================] - 0s 1ms/step - loss: 0.0163 - accuracy: 0.9965\n",
      "Epoch 15/100\n",
      "347/347 [==============================] - 0s 1ms/step - loss: 0.0082 - accuracy: 0.9984\n",
      "Epoch 16/100\n",
      "347/347 [==============================] - 0s 866us/step - loss: 0.0269 - accuracy: 0.9949\n",
      "Epoch 17/100\n",
      "347/347 [==============================] - 0s 793us/step - loss: 0.0124 - accuracy: 0.9974\n",
      "Epoch 18/100\n",
      "347/347 [==============================] - 0s 879us/step - loss: 0.0109 - accuracy: 0.9979\n",
      "Epoch 19/100\n",
      "347/347 [==============================] - 0s 1ms/step - loss: 0.0098 - accuracy: 0.9977\n",
      "Epoch 20/100\n",
      "347/347 [==============================] - 0s 1ms/step - loss: 0.0067 - accuracy: 0.9989\n",
      "Epoch 21/100\n",
      "347/347 [==============================] - 0s 963us/step - loss: 0.0082 - accuracy: 0.9983\n",
      "Epoch 22/100\n",
      "347/347 [==============================] - 0s 1ms/step - loss: 0.0142 - accuracy: 0.9974\n",
      "Epoch 23/100\n",
      "347/347 [==============================] - 0s 1ms/step - loss: 0.0095 - accuracy: 0.9982\n",
      "Epoch 24/100\n",
      "347/347 [==============================] - 0s 1ms/step - loss: 0.0083 - accuracy: 0.9984\n",
      "Epoch 25/100\n",
      "347/347 [==============================] - 0s 1ms/step - loss: 0.0116 - accuracy: 0.9978\n",
      "Epoch 26/100\n",
      "347/347 [==============================] - 0s 988us/step - loss: 0.0127 - accuracy: 0.9968\n",
      "Epoch 27/100\n",
      "347/347 [==============================] - 0s 874us/step - loss: 0.0157 - accuracy: 0.9973\n",
      "Epoch 28/100\n",
      "347/347 [==============================] - 0s 878us/step - loss: 0.0099 - accuracy: 0.9980\n",
      "Epoch 29/100\n",
      "347/347 [==============================] - 0s 797us/step - loss: 0.0101 - accuracy: 0.9982\n",
      "Epoch 30/100\n",
      "347/347 [==============================] - 0s 847us/step - loss: 0.0073 - accuracy: 0.9986\n",
      "Epoch 31/100\n",
      "347/347 [==============================] - 0s 1ms/step - loss: 0.0136 - accuracy: 0.9972\n",
      "Epoch 32/100\n",
      "347/347 [==============================] - 0s 1ms/step - loss: 0.0149 - accuracy: 0.9967\n",
      "Epoch 33/100\n",
      "347/347 [==============================] - 0s 1ms/step - loss: 0.0158 - accuracy: 0.9967\n",
      "Epoch 34/100\n",
      "347/347 [==============================] - 0s 1ms/step - loss: 0.0076 - accuracy: 0.9984\n",
      "Epoch 35/100\n",
      "347/347 [==============================] - 0s 1ms/step - loss: 0.0118 - accuracy: 0.9977\n",
      "Epoch 36/100\n",
      "347/347 [==============================] - 0s 1ms/step - loss: 0.0079 - accuracy: 0.9984\n",
      "Epoch 37/100\n",
      "347/347 [==============================] - 0s 1ms/step - loss: 0.0106 - accuracy: 0.9981\n",
      "Epoch 38/100\n",
      "347/347 [==============================] - 0s 1ms/step - loss: 0.0159 - accuracy: 0.9968\n",
      "Epoch 39/100\n",
      "347/347 [==============================] - 0s 1ms/step - loss: 0.0177 - accuracy: 0.9962\n",
      "Epoch 40/100\n",
      "347/347 [==============================] - 0s 885us/step - loss: 0.0111 - accuracy: 0.9978\n",
      "Epoch 41/100\n",
      "347/347 [==============================] - 0s 811us/step - loss: 0.0102 - accuracy: 0.9980\n",
      "Epoch 42/100\n",
      "347/347 [==============================] - 0s 1ms/step - loss: 0.0064 - accuracy: 0.9989\n",
      "Epoch 43/100\n",
      "347/347 [==============================] - 0s 1ms/step - loss: 0.0122 - accuracy: 0.9978\n",
      "Epoch 44/100\n",
      "347/347 [==============================] - 0s 1ms/step - loss: 0.0095 - accuracy: 0.9981\n",
      "Epoch 45/100\n",
      "347/347 [==============================] - 0s 1ms/step - loss: 0.0120 - accuracy: 0.9975\n",
      "Epoch 46/100\n",
      "347/347 [==============================] - 0s 1ms/step - loss: 0.0056 - accuracy: 0.9992TA: 0s - loss: 0.0023 - accura\n",
      "Epoch 47/100\n",
      "347/347 [==============================] - 0s 1ms/step - loss: 0.0158 - accuracy: 0.9960\n",
      "Epoch 48/100\n",
      "347/347 [==============================] - 0s 1ms/step - loss: 0.0144 - accuracy: 0.9966\n",
      "Epoch 49/100\n",
      "347/347 [==============================] - 0s 1ms/step - loss: 0.0159 - accuracy: 0.9962\n",
      "Epoch 50/100\n",
      "347/347 [==============================] - 0s 987us/step - loss: 0.0047 - accuracy: 0.9994\n",
      "Epoch 51/100\n",
      "347/347 [==============================] - 0s 869us/step - loss: 0.0148 - accuracy: 0.9973\n",
      "Epoch 52/100\n",
      "347/347 [==============================] - 0s 1ms/step - loss: 0.0145 - accuracy: 0.9973\n",
      "Epoch 53/100\n",
      "347/347 [==============================] - 0s 1ms/step - loss: 0.0098 - accuracy: 0.9977\n",
      "Epoch 54/100\n",
      "347/347 [==============================] - 0s 844us/step - loss: 0.0078 - accuracy: 0.9979\n",
      "Epoch 55/100\n",
      "347/347 [==============================] - 0s 1ms/step - loss: 0.0074 - accuracy: 0.9987\n",
      "Epoch 56/100\n",
      "347/347 [==============================] - 0s 1ms/step - loss: 0.0093 - accuracy: 0.9979\n",
      "Epoch 57/100\n",
      "347/347 [==============================] - 0s 989us/step - loss: 0.0149 - accuracy: 0.9973\n",
      "Epoch 58/100\n",
      "347/347 [==============================] - 0s 1ms/step - loss: 0.0102 - accuracy: 0.9980\n",
      "Epoch 59/100\n",
      "347/347 [==============================] - 0s 1ms/step - loss: 0.0188 - accuracy: 0.9963\n",
      "Epoch 60/100\n",
      "347/347 [==============================] - 0s 1ms/step - loss: 0.0101 - accuracy: 0.9979\n",
      "Epoch 61/100\n",
      "347/347 [==============================] - 0s 1ms/step - loss: 0.0098 - accuracy: 0.9979\n",
      "Epoch 62/100\n",
      "347/347 [==============================] - 0s 1ms/step - loss: 0.0099 - accuracy: 0.9972\n",
      "Epoch 63/100\n",
      "347/347 [==============================] - 0s 940us/step - loss: 0.0104 - accuracy: 0.9979\n",
      "Epoch 64/100\n",
      "347/347 [==============================] - 0s 874us/step - loss: 0.0077 - accuracy: 0.9985\n",
      "Epoch 65/100\n",
      "347/347 [==============================] - 0s 1ms/step - loss: 0.0140 - accuracy: 0.9974\n",
      "Epoch 66/100\n",
      "347/347 [==============================] - 0s 1ms/step - loss: 0.0072 - accuracy: 0.9988\n",
      "Epoch 67/100\n",
      "347/347 [==============================] - 0s 1ms/step - loss: 0.0151 - accuracy: 0.9964\n",
      "Epoch 68/100\n",
      "347/347 [==============================] - 0s 953us/step - loss: 0.0117 - accuracy: 0.9980\n",
      "Epoch 69/100\n",
      "347/347 [==============================] - 0s 942us/step - loss: 0.0097 - accuracy: 0.9983\n",
      "Epoch 70/100\n",
      "347/347 [==============================] - 0s 1ms/step - loss: 0.0088 - accuracy: 0.9983\n",
      "Epoch 71/100\n",
      "347/347 [==============================] - 0s 978us/step - loss: 0.0117 - accuracy: 0.9971\n",
      "Epoch 72/100\n",
      "347/347 [==============================] - 0s 999us/step - loss: 0.0068 - accuracy: 0.9985\n",
      "Epoch 73/100\n",
      "347/347 [==============================] - 0s 874us/step - loss: 0.0123 - accuracy: 0.9979\n",
      "Epoch 74/100\n",
      "347/347 [==============================] - 0s 755us/step - loss: 0.0108 - accuracy: 0.9978\n",
      "Epoch 75/100\n",
      "347/347 [==============================] - 0s 1ms/step - loss: 0.0149 - accuracy: 0.9972\n",
      "Epoch 76/100\n",
      "347/347 [==============================] - 0s 851us/step - loss: 0.0096 - accuracy: 0.9973\n",
      "Epoch 77/100\n",
      "347/347 [==============================] - 0s 891us/step - loss: 0.0107 - accuracy: 0.9978\n",
      "Epoch 78/100\n",
      "347/347 [==============================] - 0s 719us/step - loss: 0.0088 - accuracy: 0.9982\n",
      "Epoch 79/100\n",
      "347/347 [==============================] - 0s 614us/step - loss: 0.0075 - accuracy: 0.9985\n",
      "Epoch 80/100\n"
     ]
    },
    {
     "name": "stdout",
     "output_type": "stream",
     "text": [
      "347/347 [==============================] - 0s 770us/step - loss: 0.0127 - accuracy: 0.9975\n",
      "Epoch 81/100\n",
      "347/347 [==============================] - 0s 746us/step - loss: 0.0091 - accuracy: 0.9983\n",
      "Epoch 82/100\n",
      "347/347 [==============================] - 0s 741us/step - loss: 0.0128 - accuracy: 0.9972\n",
      "Epoch 83/100\n",
      "347/347 [==============================] - 0s 740us/step - loss: 0.0081 - accuracy: 0.9985\n",
      "Epoch 84/100\n",
      "347/347 [==============================] - 0s 686us/step - loss: 0.0078 - accuracy: 0.9985\n",
      "Epoch 85/100\n",
      "347/347 [==============================] - 0s 811us/step - loss: 0.0102 - accuracy: 0.9975\n",
      "Epoch 86/100\n",
      "347/347 [==============================] - 0s 906us/step - loss: 0.0067 - accuracy: 0.9986\n",
      "Epoch 87/100\n",
      "347/347 [==============================] - 0s 1ms/step - loss: 0.0104 - accuracy: 0.9980\n",
      "Epoch 88/100\n",
      "347/347 [==============================] - 0s 1ms/step - loss: 0.0131 - accuracy: 0.9976\n",
      "Epoch 89/100\n",
      "347/347 [==============================] - 0s 756us/step - loss: 0.0104 - accuracy: 0.9979\n",
      "Epoch 90/100\n",
      "347/347 [==============================] - 0s 860us/step - loss: 0.0113 - accuracy: 0.9974\n",
      "Epoch 91/100\n",
      "347/347 [==============================] - 0s 998us/step - loss: 0.0092 - accuracy: 0.9980\n",
      "Epoch 92/100\n",
      "347/347 [==============================] - 0s 978us/step - loss: 0.0071 - accuracy: 0.9985\n",
      "Epoch 93/100\n",
      "347/347 [==============================] - 0s 1ms/step - loss: 0.0119 - accuracy: 0.9971\n",
      "Epoch 94/100\n",
      "347/347 [==============================] - 0s 984us/step - loss: 0.0114 - accuracy: 0.9976\n",
      "Epoch 95/100\n",
      "347/347 [==============================] - 0s 1ms/step - loss: 0.0099 - accuracy: 0.9981\n",
      "Epoch 96/100\n",
      "347/347 [==============================] - 0s 1ms/step - loss: 0.0102 - accuracy: 0.9981\n",
      "Epoch 97/100\n",
      "347/347 [==============================] - 0s 822us/step - loss: 0.0117 - accuracy: 0.9973\n",
      "Epoch 98/100\n",
      "347/347 [==============================] - 0s 707us/step - loss: 0.0083 - accuracy: 0.9984\n",
      "Epoch 99/100\n",
      "347/347 [==============================] - 0s 1ms/step - loss: 0.0149 - accuracy: 0.9973\n",
      "Epoch 100/100\n",
      "347/347 [==============================] - 0s 1ms/step - loss: 0.0086 - accuracy: 0.9985\n"
     ]
    }
   ],
   "source": [
    "reg = ann.fit(xtrain,ytrain,validation_split=0.0,batch_size=10,epochs=100)"
   ]
  },
  {
   "cell_type": "code",
   "execution_count": 48,
   "metadata": {},
   "outputs": [],
   "source": [
    "y_pred = ann.predict(xtest)\n",
    "y_pred = y_pred > 0.5"
   ]
  },
  {
   "cell_type": "code",
   "execution_count": 49,
   "metadata": {},
   "outputs": [],
   "source": [
    "from sklearn.metrics import confusion_matrix,accuracy_score"
   ]
  },
  {
   "cell_type": "code",
   "execution_count": 51,
   "metadata": {},
   "outputs": [
    {
     "name": "stdout",
     "output_type": "stream",
     "text": [
      "[[1697    0]\n",
      " [  10    0]]\n"
     ]
    }
   ],
   "source": [
    "print(confusion_matrix(ytest,y_pred))"
   ]
  },
  {
   "cell_type": "code",
   "execution_count": 52,
   "metadata": {},
   "outputs": [
    {
     "data": {
      "text/plain": [
       "0.994141769185706"
      ]
     },
     "execution_count": 52,
     "metadata": {},
     "output_type": "execute_result"
    }
   ],
   "source": [
    "accuracy_score(ytest,y_pred)"
   ]
  },
  {
   "cell_type": "code",
   "execution_count": null,
   "metadata": {},
   "outputs": [],
   "source": []
  }
 ],
 "metadata": {
  "kernelspec": {
   "display_name": "Python 3",
   "language": "python",
   "name": "python3"
  },
  "language_info": {
   "codemirror_mode": {
    "name": "ipython",
    "version": 3
   },
   "file_extension": ".py",
   "mimetype": "text/x-python",
   "name": "python",
   "nbconvert_exporter": "python",
   "pygments_lexer": "ipython3",
   "version": "3.7.9"
  }
 },
 "nbformat": 4,
 "nbformat_minor": 4
}
